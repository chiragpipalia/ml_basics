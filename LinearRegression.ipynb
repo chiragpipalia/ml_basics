{
 "cells": [
  {
   "cell_type": "code",
   "execution_count": 1,
   "metadata": {},
   "outputs": [],
   "source": [
    "import numpy as np\n",
    "import matplotlib.pyplot as plt\n",
    "import random"
   ]
  },
  {
   "cell_type": "code",
   "execution_count": 2,
   "metadata": {},
   "outputs": [
    {
     "data": {
      "image/png": "[encoded data removed]",
      "text/plain": [
       "<Figure size 432x288 with 1 Axes>"
      ]
     },
     "metadata": {
      "needs_background": "light"
     },
     "output_type": "display_data"
    }
   ],
   "source": [
    "## Creating random data for linear regression model\n",
    "m, c = 0.50, 2\n",
    "x, y = [], []\n",
    "for i in range(25):    \n",
    "    x.append(random.uniform(0, 10))\n",
    "    \n",
    "for xx in x:\n",
    "    error = random.uniform(-1, 1)/1.5\n",
    "    y.append(((xx*m)+error) + c)\n",
    "    \n",
    "plt.scatter(x, y)\n",
    "plt.show()"
   ]
  },
  {
   "cell_type": "markdown",
   "metadata": {},
   "source": [
    "## Linear regression using OLS\n",
    " B0 = ∑ ( (xi - mean(x) * (yi - mean(y)) ) / ∑(xi - mean(x))<br>\n",
    " B1 = ∑ (mean(y) - B0 * mean(x))^2"
   ]
  },
  {
   "cell_type": "code",
   "execution_count": 3,
   "metadata": {},
   "outputs": [
    {
     "name": "stdout",
     "output_type": "stream",
     "text": [
      "0.49674707131336177 1.9196974591775802\n"
     ]
    }
   ],
   "source": [
    "## Calculating co-effecients\n",
    "b0 = np.sum((x - np.mean(x)) * (y - np.mean(y))) / np.sum(np.square(x - np.mean(x)))\n",
    "b1 = np.mean(y) - (b0 * np.mean(x))\n",
    "print(b0, b1)"
   ]
  },
  {
   "cell_type": "code",
   "execution_count": 4,
   "metadata": {},
   "outputs": [
    {
     "data": {
      "image/png": "[encoded data removed]",
      "text/plain": [
       "<Figure size 432x288 with 1 Axes>"
      ]
     },
     "metadata": {
      "needs_background": "light"
     },
     "output_type": "display_data"
    }
   ],
   "source": [
    "## Calculating and plotting predictions\n",
    "yhat = []\n",
    "for xx in x:\n",
    "    yhat.append(b0*xx + b1)\n",
    "    \n",
    "plt.scatter(x, y)   \n",
    "plt.plot(x, yhat, c = 'cyan', label = 'regression line')\n",
    "plt.legend()\n",
    "plt.show()"
   ]
  },
  {
   "cell_type": "code",
   "execution_count": 5,
   "metadata": {},
   "outputs": [
    {
     "name": "stdout",
     "output_type": "stream",
     "text": [
      "0.4167338505312003\n"
     ]
    }
   ],
   "source": [
    "## Calculating the error\n",
    "import math\n",
    "def rmse_metric(actual, predicted):\n",
    "    sum_error = 0.0\n",
    "    for i in range(len(actual)):\n",
    "        prediction_error = predicted[i] - actual[i]\n",
    "        sum_error += (prediction_error ** 2)\n",
    "    mean_error = sum_error / float(len(actual))\n",
    "    return math.sqrt(mean_error)\n",
    "print(rmse_metric(yhat, y))"
   ]
  },
  {
   "cell_type": "code",
   "execution_count": null,
   "metadata": {},
   "outputs": [],
   "source": []
  },
  {
   "cell_type": "markdown",
   "metadata": {},
   "source": [
    "## Implementing linear regression using gradient descent"
   ]
  },
  {
   "cell_type": "code",
   "execution_count": null,
   "metadata": {},
   "outputs": [],
   "source": []
  }
 ],
 "metadata": {
  "kernelspec": {
   "display_name": "Python 3",
   "language": "python",
   "name": "python3"
  },
  "language_info": {
   "codemirror_mode": {
    "name": "ipython",
    "version": 3
   },
   "file_extension": ".py",
   "mimetype": "text/x-python",
   "name": "python",
   "nbconvert_exporter": "python",
   "pygments_lexer": "ipython3",
   "version": "3.7.4"
  }
 },
 "nbformat": 4,
 "nbformat_minor": 4
}
